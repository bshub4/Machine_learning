{
 "cells": [
  {
   "cell_type": "markdown",
   "metadata": {
    "colab_type": "text",
    "id": "s0Ej_bXyQvnV"
   },
   "source": [
    "# Compute performance metrics for the given Y and Y_score without sklearn"
   ]
  },
  {
   "cell_type": "code",
   "execution_count": 1,
   "metadata": {
    "colab": {},
    "colab_type": "code",
    "id": "4CHb6NE7Qvnc"
   },
   "outputs": [],
   "source": [
    "import numpy as np\n",
    "import pandas as pd\n",
    "# other than these two you should not import any other packages"
   ]
  },
  {
   "cell_type": "markdown",
   "metadata": {
    "colab_type": "text",
    "id": "KbsWXuDaQvnq"
   },
   "source": [
    "<pre>\n",
    "<font color='red'><b>A.</b></font> Compute performance metrics for the given data <strong>5_a.csv</strong>\n",
    "   <b>Note 1:</b> in this data you can see number of positive points >> number of negatives points\n",
    "   <b>Note 2:</b> use pandas or numpy to read the data from <b>5_a.csv</b>\n",
    "   <b>Note 3:</b> you need to derive the class labels from given score</pre> $y^{pred}= \\text{[0 if y_score < 0.5 else 1]}$\n",
    "\n",
    "<pre>\n",
    "<ol>\n",
    "<li> Compute Confusion Matrix </li>\n",
    "<li> Compute F1 Score </li>\n",
    "<li> Compute AUC Score, you need to compute different thresholds and for each threshold compute tpr,fpr and then use               numpy.trapz(tpr_array, fpr_array) <a href='https://stackoverflow.com/q/53603376/4084039'>https://stackoverflow.com/q/53603376/4084039</a>, <a href='https://stackoverflow.com/a/39678975/4084039'>https://stackoverflow.com/a/39678975/4084039</a> Note: it should be numpy.trapz(tpr_array, fpr_array) not numpy.trapz(fpr_array, tpr_array)</li>\n",
    "<li> Compute Accuracy Score </li>\n",
    "</ol>\n",
    "</pre>"
   ]
  },
  {
   "cell_type": "code",
   "execution_count": 2,
   "metadata": {
    "colab": {},
    "colab_type": "code",
    "id": "WaFLW7oBQvnt"
   },
   "outputs": [
    {
     "name": "stdout",
     "output_type": "stream",
     "text": [
      "Accurarcy :  0.9900990099009901 \n",
      "\n",
      "F1 score :  0.9950248756218906 \n",
      "\n",
      "confusion matrix \n",
      " [0, 0] \n",
      " [100, 10000]\n"
     ]
    }
   ],
   "source": [
    "## Loading data\n",
    "\n",
    "data=pd.read_csv(\"5_a.csv\")\n",
    "data.head(5)\n",
    "\n",
    "\n",
    "## defining a function to calculate confusion matrix, F1 score and accuracy\n",
    "\n",
    "def performance(data):\n",
    "    \n",
    "    ## mapping the probability values to class labels\n",
    "    \n",
    "    data['y_predicted'] = [0.0 if x <0.5 else 1.0 for x in data['proba']]\n",
    "    \n",
    "    ## finding confusion matrix\n",
    "    ## initializing confusion matrix elements and running loop to get all values(TN,TP,FP,FN)\n",
    "    \n",
    "    TP,TN,FN,FP=0,0,0,0\n",
    "    for i in range(len(data['y'])):\n",
    "        if data['y'][i]==1 and data['y_predicted'][i]==1:\n",
    "            TP+=1\n",
    "        elif data['y'][i]==0 and data['y_predicted'][i]==0:\n",
    "            TN+=1\n",
    "        \n",
    "        elif data['y'][i]==0 and data['y_predicted'][i]==1:\n",
    "            FP+=1\n",
    "        elif data['y'][i]==1 and data['y_predicted'][i]==0:\n",
    "            FN+=1\n",
    "\n",
    "    confusion_matrix=[[TN,FN],[FP,TP]]\n",
    "\n",
    "## Finding precision and recall \n",
    "        \n",
    "    total_positive,total_negative=data['y'].value_counts()\n",
    "    precision=TP/(TP+FP)\n",
    "    recall=TP/(TP+FN)\n",
    "    \n",
    "## Finding F1 score\n",
    "\n",
    "    F_1_score=2*((precision*recall)/(precision+recall))\n",
    "    \n",
    "## finding accuracy\n",
    "    \n",
    "    accuracy=(TP + TN)/(TP + TN + FP + FN)\n",
    "    \n",
    "## printing the outputs\n",
    "    \n",
    "    print('Accurarcy : ',accuracy,'\\n\\n'+'F1 score : ',F_1_score,'\\n\\n'+'confusion matrix \\n',\\\n",
    "          confusion_matrix[0],'\\n',confusion_matrix[1])\n",
    "    \n",
    "\n",
    "    \n",
    "## calling the above defined function to printing the output \n",
    "\n",
    "performance(data)\n",
    "\n"
   ]
  },
  {
   "cell_type": "code",
   "execution_count": 3,
   "metadata": {},
   "outputs": [
    {
     "name": "stderr",
     "output_type": "stream",
     "text": [
      "100%|██████████| 41/41 [01:05<00:00,  1.60s/it]"
     ]
    },
    {
     "name": "stdout",
     "output_type": "stream",
     "text": [
      "AUC score :  0.4875514999999999\n"
     ]
    },
    {
     "name": "stderr",
     "output_type": "stream",
     "text": [
      "\n"
     ]
    }
   ],
   "source": [
    "## calculating AUC Score\n",
    "\n",
    "from tqdm import tqdm\n",
    "unique_probability=(data['proba'].round(decimals=2)).unique()\n",
    "list(unique_probability)\n",
    "unique_probability.sort()\n",
    "n_thresholds=list(unique_probability)\n",
    "n_thresholds.reverse()\n",
    "n_thresholds=n_thresholds\n",
    "\n",
    "\n",
    "## comparing with different values of thresholds\n",
    "TPR,FPR=[],[]\n",
    "for i in tqdm(range(len(n_thresholds))):\n",
    "    threshold=n_thresholds[i]\n",
    "    \n",
    "    data['y_predicted'] = [0.0 if x <threshold else 1.0 for x in data['proba']]\n",
    "    \n",
    "    \n",
    "    \n",
    "    \n",
    "    TP,TN,FN,FP=0,0,0,0\n",
    "    for i in range(len(data['y'])):\n",
    "        if data['y'][i]==1 and data['y_predicted'][i]==1:\n",
    "            TP+=1\n",
    "        elif data['y'][i]==0 and data['y_predicted'][i]==0:\n",
    "            TN+=1\n",
    "        \n",
    "        elif data['y'][i]==0 and data['y_predicted'][i]==1:\n",
    "            FP+=1\n",
    "        elif data['y'][i]==1 and data['y_predicted'][i]==0:\n",
    "            FN+=1\n",
    "    tpr=TP/(FN+TP)\n",
    "    fpr=FP/(TN+FP)\n",
    "    TPR.append(tpr)\n",
    "    FPR.append(fpr)\n",
    "\n",
    "## Finding the value of AUC\n",
    "\n",
    "tpr_array=np.array(TPR)\n",
    "fpr_array=np.array(FPR)\n",
    "\n",
    "AUC_Score=np.trapz(tpr_array, fpr_array)\n",
    "\n",
    "print('AUC score : ',AUC_Score)"
   ]
  },
  {
   "cell_type": "markdown",
   "metadata": {
    "colab_type": "text",
    "id": "V5KZem1BQvn2"
   },
   "source": [
    "<pre>\n",
    "<font color='red'><b>B.</b></font> Compute performance metrics for the given data <strong>5_b.csv</strong>\n",
    "   <b>Note 1:</b> in this data you can see number of positive points << number of negatives points\n",
    "   <b>Note 2:</b> use pandas or numpy to read the data from <b>5_b.csv</b>\n",
    "   <b>Note 3:</b> you need to derive the class labels from given score</pre> $y^{pred}= \\text{[0 if y_score < 0.5 else 1]}$\n",
    "\n",
    "<pre>\n",
    "<ol>\n",
    "<li> Compute Confusion Matrix </li>\n",
    "<li> Compute F1 Score </li>\n",
    "<li> Compute AUC Score, you need to compute different thresholds and for each threshold compute tpr,fpr and then use               numpy.trapz(tpr_array, fpr_array) <a href='https://stackoverflow.com/q/53603376/4084039'>https://stackoverflow.com/q/53603376/4084039</a>, <a href='https://stackoverflow.com/a/39678975/4084039'>https://stackoverflow.com/a/39678975/4084039</a></li>\n",
    "<li> Compute Accuracy Score </li>\n",
    "</ol>\n",
    "</pre>"
   ]
  },
  {
   "cell_type": "code",
   "execution_count": 4,
   "metadata": {
    "colab": {},
    "colab_type": "code",
    "id": "U2sKlq0YQvn5"
   },
   "outputs": [
    {
     "name": "stdout",
     "output_type": "stream",
     "text": [
      "Accurarcy :  0.9718811881188119 \n",
      "\n",
      "F1 score :  0.2791878172588833 \n",
      "\n",
      "confusion matrix \n",
      " [9761, 45] \n",
      " [239, 55]\n"
     ]
    }
   ],
   "source": [
    "## Loading data\n",
    "\n",
    "data=pd.read_csv(\"5_b.csv\")\n",
    "data.head(5)\n",
    "\n",
    "   \n",
    "## calling the above defined function to printing the output \n",
    "\n",
    "performance(data)\n",
    "\n"
   ]
  },
  {
   "cell_type": "code",
   "execution_count": 5,
   "metadata": {},
   "outputs": [
    {
     "name": "stderr",
     "output_type": "stream",
     "text": [
      "100%|██████████| 51/51 [01:16<00:00,  1.49s/it]"
     ]
    },
    {
     "name": "stdout",
     "output_type": "stream",
     "text": [
      "AUC score :  0.9372849999999999\n"
     ]
    },
    {
     "name": "stderr",
     "output_type": "stream",
     "text": [
      "\n"
     ]
    }
   ],
   "source": [
    "## calculating AUC Score\n",
    "\n",
    "from tqdm import tqdm\n",
    "unique_probability=(data['proba'].round(decimals=2)).unique()\n",
    "list(unique_probability)\n",
    "unique_probability.sort()\n",
    "n_thresholds=list(unique_probability)\n",
    "n_thresholds.reverse()\n",
    "n_thresholds=n_thresholds\n",
    "\n",
    "\n",
    "## comparing with different values of thresholds\n",
    "TPR,FPR=[],[]\n",
    "for i in tqdm(range(len(n_thresholds))):\n",
    "    threshold=n_thresholds[i]\n",
    "    \n",
    "    data['y_predicted'] = [0.0 if x <threshold else 1.0 for x in data['proba']]\n",
    "    \n",
    "    \n",
    "    \n",
    "    \n",
    "    TP,TN,FN,FP=0,0,0,0\n",
    "    for i in range(len(data['y'])):\n",
    "        if data['y'][i]==1 and data['y_predicted'][i]==1:\n",
    "            TP+=1\n",
    "        elif data['y'][i]==0 and data['y_predicted'][i]==0:\n",
    "            TN+=1\n",
    "        \n",
    "        elif data['y'][i]==0 and data['y_predicted'][i]==1:\n",
    "            FP+=1\n",
    "        elif data['y'][i]==1 and data['y_predicted'][i]==0:\n",
    "            FN+=1\n",
    "    tpr=TP/(FN+TP)\n",
    "    fpr=FP/(TN+FP)\n",
    "    TPR.append(tpr)\n",
    "    FPR.append(fpr)\n",
    "\n",
    "## Finding the value of AUC\n",
    "\n",
    "tpr_array=np.array(TPR)\n",
    "fpr_array=np.array(FPR)\n",
    "\n",
    "AUC_Score=np.trapz(tpr_array, fpr_array)\n",
    "\n",
    "print('AUC score : ',AUC_Score)"
   ]
  },
  {
   "cell_type": "markdown",
   "metadata": {
    "colab_type": "text",
    "id": "GiPGonTzQvoB"
   },
   "source": [
    "<font color='red'><b>C.</b></font> Compute the best threshold (similarly to ROC curve computation) of probability which gives lowest values of metric <b>A</b> for the given data <strong>5_c.csv</strong>\n",
    "<br>\n",
    "\n",
    "you will be predicting label of a data points like this: $y^{pred}= \\text{[0 if y_score < threshold  else 1]}$\n",
    "\n",
    "$ A = 500 \\times \\text{number of false negative} + 100 \\times \\text{numebr of false positive}$\n",
    "\n",
    "<pre>\n",
    "   <b>Note 1:</b> in this data you can see number of negative points > number of positive points\n",
    "   <b>Note 2:</b> use pandas or numpy to read the data from <b>5_c.csv</b>\n",
    "</pre>"
   ]
  },
  {
   "cell_type": "code",
   "execution_count": 6,
   "metadata": {
    "colab": {},
    "colab_type": "code",
    "id": "x5HIJzq1QvoE"
   },
   "outputs": [
    {
     "name": "stderr",
     "output_type": "stream",
     "text": [
      "100%|██████████| 782/782 [04:08<00:00,  3.15it/s]"
     ]
    },
    {
     "name": "stdout",
     "output_type": "stream",
     "text": [
      "Threshold for minimum value of A : [0.23]\n"
     ]
    },
    {
     "name": "stderr",
     "output_type": "stream",
     "text": [
      "\n"
     ]
    }
   ],
   "source": [
    "## loading data\n",
    "data=pd.read_csv('5_c.csv')\n",
    "\n",
    "thresholds=(data['prob'].round(decimals=3)).unique()\n",
    "list1=list(thresholds)\n",
    "list1.sort()\n",
    "\n",
    "\n",
    "\n",
    "dict={}\n",
    "for i in tqdm(range(len(list1))):\n",
    "    \n",
    "    data['y_predicted'] = [0.0 if x <list1[i] else 1.0 for x in data['prob']]\n",
    "    \n",
    "    FN,FP=0,0\n",
    "    for j in range(len(data['y'])):\n",
    "        if data['y'][j]==0 and data['y_predicted'][j]==1:\n",
    "            FP+=1\n",
    "        elif data['y'][j]==1 and data['y_predicted'][j]==0:\n",
    "            FN+=1\n",
    "    A=(500*FN)+(100*FP)\n",
    "    dict[list1[i]]=A\n",
    "    \n",
    "\n",
    "min_A = min(dict.values()) \n",
    "min_threshold = [key for key in dict if dict[key] == min_A] \n",
    "print(\"Threshold for minimum value of A : \" + str(min_threshold))    \n",
    "        \n",
    "\n",
    "\n"
   ]
  },
  {
   "cell_type": "markdown",
   "metadata": {
    "colab_type": "text",
    "id": "sD4CcgjXQvoL"
   },
   "source": [
    "<pre>\n",
    "<font color='red'><b>D.</b></font> Compute performance metrics(for regression) for the given data <strong>5_d.csv</strong>\n",
    "    <b>Note 2:</b> use pandas or numpy to read the data from <b>5_d.csv</b>\n",
    "    <b>Note 1:</b> <b>5_d.csv</b> will having two columns Y and predicted_Y both are real valued features\n",
    "<ol>\n",
    "<li> Compute Mean Square Error </li>\n",
    "<li> Compute MAPE: https://www.youtube.com/watch?v=ly6ztgIkUxk</li>\n",
    "<li> Compute R^2 error: https://en.wikipedia.org/wiki/Coefficient_of_determination#Definitions </li>\n",
    "</ol>\n",
    "</pre>"
   ]
  },
  {
   "cell_type": "code",
   "execution_count": 7,
   "metadata": {},
   "outputs": [
    {
     "name": "stdout",
     "output_type": "stream",
     "text": [
      "Mean square error :  177.16569974554707\n",
      "Mean absolute percentage error :  0.1291202994009687\n",
      "R^2 value is :  0.9999997223809077\n"
     ]
    }
   ],
   "source": [
    "## loading data\n",
    "data=pd.read_csv('5_d.csv')\n",
    "\n",
    "## calculating mean square error\n",
    "\n",
    "MSE=0\n",
    "for i in range(len(data['y'])):\n",
    "    diff=data['y'][i]-data['pred'][i]\n",
    "    diff=diff**2\n",
    "    MSE+=diff\n",
    "    \n",
    "MSE=MSE/len(data['y'])\n",
    "print('Mean square error : ',MSE)\n",
    "\n",
    "\n",
    "## calculating mean of actual values and putting for zero values and calculating MAPE\n",
    "MAPE=0\n",
    "\n",
    "\n",
    "for i in range(len(data['y'])):\n",
    "    diff=(data['y'][i]-data['pred'][i])\n",
    "    MAPE+=abs(diff)\n",
    "    \n",
    "MAPE=MAPE/data['y'].sum()\n",
    "print('Mean absolute percentage error : ',MAPE)\n",
    "\n",
    "## calculating Total sum of square for calculating R^2 \n",
    "avg=data['y'].mean()\n",
    "TSS=0\n",
    "for i in range(len(data['y'])):\n",
    "    diff=(data['y'][i]-avg)\n",
    "    TSS+=diff**2\n",
    "    \n",
    "\n",
    "\n",
    "## using above calculated values and putting in formula of R^2 value\n",
    "\n",
    "R_squared=1-(MSE/TSS)\n",
    "\n",
    "print('R^2 value is : ',R_squared)\n",
    "    "
   ]
  }
 ],
 "metadata": {
  "colab": {
   "collapsed_sections": [],
   "name": "5_Performance_metrics_Instructions.ipynb",
   "provenance": []
  },
  "kernelspec": {
   "display_name": "Python 3",
   "language": "python",
   "name": "python3"
  },
  "language_info": {
   "codemirror_mode": {
    "name": "ipython",
    "version": 3
   },
   "file_extension": ".py",
   "mimetype": "text/x-python",
   "name": "python",
   "nbconvert_exporter": "python",
   "pygments_lexer": "ipython3",
   "version": "3.7.6"
  }
 },
 "nbformat": 4,
 "nbformat_minor": 1
}
